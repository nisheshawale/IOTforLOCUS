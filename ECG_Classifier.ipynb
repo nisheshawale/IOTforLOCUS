{
  "nbformat": 4,
  "nbformat_minor": 0,
  "metadata": {
    "colab": {
      "name": "ECG_Classifier.ipynb",
      "provenance": []
    },
    "kernelspec": {
      "name": "python3",
      "display_name": "Python 3"
    },
    "accelerator": "GPU"
  },
  "cells": [
    {
      "cell_type": "code",
      "metadata": {
        "id": "X5IFk6w4ZvVt",
        "colab_type": "code",
        "colab": {}
      },
      "source": [
        "!pip install --upgrade tensorflow"
      ],
      "execution_count": null,
      "outputs": []
    },
    {
      "cell_type": "code",
      "metadata": {
        "id": "snv-0kN9ZvOX",
        "colab_type": "code",
        "colab": {}
      },
      "source": [
        "pip install matplotlib==3.1.0"
      ],
      "execution_count": null,
      "outputs": []
    },
    {
      "cell_type": "code",
      "metadata": {
        "id": "sLhBHC4zZX08",
        "colab_type": "code",
        "colab": {}
      },
      "source": [
        "from google.colab import files\n",
        "files.upload()"
      ],
      "execution_count": null,
      "outputs": []
    },
    {
      "cell_type": "code",
      "metadata": {
        "id": "Dcanh2IxZknd",
        "colab_type": "code",
        "colab": {}
      },
      "source": [
        "!pip install -q kaggle"
      ],
      "execution_count": null,
      "outputs": []
    },
    {
      "cell_type": "code",
      "metadata": {
        "id": "3LG4vmN-Zob_",
        "colab_type": "code",
        "colab": {}
      },
      "source": [
        "!mkdir -p ~/.kaggle"
      ],
      "execution_count": null,
      "outputs": []
    },
    {
      "cell_type": "code",
      "metadata": {
        "id": "nYsoTf4zZqev",
        "colab_type": "code",
        "colab": {}
      },
      "source": [
        "!cp kaggle.json ~/.kaggle/"
      ],
      "execution_count": null,
      "outputs": []
    },
    {
      "cell_type": "code",
      "metadata": {
        "id": "O6EU5elCZurQ",
        "colab_type": "code",
        "colab": {}
      },
      "source": [
        "!kaggle datasets list"
      ],
      "execution_count": null,
      "outputs": []
    },
    {
      "cell_type": "code",
      "metadata": {
        "id": "g4Gfrfp7ZvGi",
        "colab_type": "code",
        "colab": {
          "base_uri": "https://localhost:8080/",
          "height": 85
        },
        "outputId": "5d2af935-d1d1-4ceb-9492-106109b435c1"
      },
      "source": [
        "!kaggle datasets download -d shayanfazeli/heartbeat"
      ],
      "execution_count": null,
      "outputs": [
        {
          "output_type": "stream",
          "text": [
            "Warning: Your Kaggle API key is readable by other users on this system! To fix this, you can run 'chmod 600 /root/.kaggle/kaggle.json'\n",
            "Downloading heartbeat.zip to /content\n",
            " 90% 89.0M/98.8M [00:03<00:00, 29.4MB/s]\n",
            "100% 98.8M/98.8M [00:03<00:00, 30.7MB/s]\n"
          ],
          "name": "stdout"
        }
      ]
    },
    {
      "cell_type": "code",
      "metadata": {
        "id": "Wq-wr8OeZvQ7",
        "colab_type": "code",
        "colab": {
          "base_uri": "https://localhost:8080/",
          "height": 102
        },
        "outputId": "f5e7eb9e-a0d4-4deb-b458-b1c1fba70226"
      },
      "source": [
        "!unzip heartbeat.zip -d heartbeat"
      ],
      "execution_count": null,
      "outputs": [
        {
          "output_type": "stream",
          "text": [
            "Archive:  heartbeat.zip\n",
            "  inflating: heartbeat/mitbih_test.csv  \n",
            "  inflating: heartbeat/mitbih_train.csv  \n",
            "  inflating: heartbeat/ptbdb_abnormal.csv  \n",
            "  inflating: heartbeat/ptbdb_normal.csv  \n"
          ],
          "name": "stdout"
        }
      ]
    },
    {
      "cell_type": "code",
      "metadata": {
        "id": "eVFt1CsUZvkD",
        "colab_type": "code",
        "colab": {}
      },
      "source": [
        "from google.colab import drive\n",
        "drive.mount('/content/gdrive')"
      ],
      "execution_count": null,
      "outputs": []
    },
    {
      "cell_type": "code",
      "metadata": {
        "id": "V6t2IEDvZvbj",
        "colab_type": "code",
        "colab": {}
      },
      "source": [
        "!ls /content/gdrive/My\\ Drive"
      ],
      "execution_count": null,
      "outputs": []
    },
    {
      "cell_type": "code",
      "metadata": {
        "id": "uuTuXyZJZvXv",
        "colab_type": "code",
        "colab": {}
      },
      "source": [
        "import pandas as pd\n",
        "import numpy as np\n",
        "import tensorflow as tf\n",
        "from tensorflow import keras\n",
        "from sklearn.metrics import f1_score, accuracy_score\n",
        "from sklearn.metrics import confusion_matrix\n",
        "import seaborn as sns\n",
        "import matplotlib.pyplot as plt"
      ],
      "execution_count": null,
      "outputs": []
    },
    {
      "cell_type": "code",
      "metadata": {
        "id": "1rYii79maDGN",
        "colab_type": "code",
        "colab": {
          "base_uri": "https://localhost:8080/",
          "height": 51
        },
        "outputId": "59dd48bc-ad0f-4fd7-e7cc-fb63a81b06d3"
      },
      "source": [
        "train = pd.read_csv('heartbeat/mitbih_train.csv')\n",
        "test = pd.read_csv('heartbeat/mitbih_test.csv')\n",
        "print(train.shape)\n",
        "print(test.shape)"
      ],
      "execution_count": null,
      "outputs": [
        {
          "output_type": "stream",
          "text": [
            "(87553, 188)\n",
            "(21891, 188)\n"
          ],
          "name": "stdout"
        }
      ]
    },
    {
      "cell_type": "code",
      "metadata": {
        "id": "4Z6qGhMgZves",
        "colab_type": "code",
        "colab": {}
      },
      "source": [
        "train = train.sample(frac=1).reset_index(drop=True)\n",
        "test = test.sample(frac=1).reset_index(drop=True)\n",
        "\n",
        "Y = np.array(train.iloc[:, 187].values).astype(np.int8)\n",
        "X = np.array(train.iloc[:, list(range(187))].values)[..., np.newaxis]\n",
        "#print(train.iloc[:, -1])"
      ],
      "execution_count": null,
      "outputs": []
    },
    {
      "cell_type": "code",
      "metadata": {
        "id": "yPf9gwMBaDJC",
        "colab_type": "code",
        "colab": {}
      },
      "source": [
        "input = keras.layers.Input(shape = (187, 1))\n",
        "layer_input = keras.layers.Conv1D(filters=32, kernel_size=5, strides=1)(input)\n",
        "layer = keras.layers.Conv1D(filters=32, kernel_size=5, strides=1, padding='same', activation='relu')(layer_input)\n",
        "layer = keras.layers.Conv1D(filters=32, kernel_size=5, strides=1, padding='same', activation=None)(layer )\n",
        "layer = keras.layers.Add()([layer, layer_input])\n",
        "layer = keras.layers.Activation(\"relu\")(layer)\n",
        "layer_input = keras.layers.MaxPooling1D(pool_size=5, strides=2)(layer)\n",
        "layer = keras.layers.Conv1D(filters=32, kernel_size=5, strides=1, padding='same', activation='relu')(layer_input)\n",
        "layer = keras.layers.Conv1D(filters=32, kernel_size=5, strides=1, padding='same', activation=None)(layer )\n",
        "layer = keras.layers.Add()([layer, layer_input])\n",
        "layer = keras.layers.Activation(\"relu\")(layer)\n",
        "layer_input = keras.layers.MaxPooling1D(pool_size=5, strides=2)(layer)\n",
        "layer = keras.layers.Conv1D(filters=32, kernel_size=5, strides=1, padding='same', activation='relu')(layer_input)\n",
        "layer = keras.layers.Conv1D(filters=32, kernel_size=5, strides=1, padding='same', activation=None)(layer )\n",
        "layer = keras.layers.Add()([layer, layer_input])\n",
        "layer = keras.layers.Activation(\"relu\")(layer)\n",
        "layer_input = keras.layers.MaxPooling1D(pool_size=5, strides=2)(layer)\n",
        "layer = keras.layers.Conv1D(filters=32, kernel_size=5, strides=1, padding='same', activation='relu')(layer_input)\n",
        "layer = keras.layers.Conv1D(filters=32, kernel_size=5, strides=1, padding='same', activation=None)(layer )\n",
        "layer = keras.layers.Add()([layer, layer_input])\n",
        "layer = keras.layers.Activation(\"relu\")(layer)\n",
        "layer_input = keras.layers.MaxPooling1D(pool_size=5, strides=2)(layer)\n",
        "layer = keras.layers.Conv1D(filters=32, kernel_size=5, strides=1, padding='same', activation='relu')(layer_input)\n",
        "layer = keras.layers.Conv1D(filters=32, kernel_size=5, strides=1, padding='same', activation=None)(layer )\n",
        "layer = keras.layers.Add()([layer, layer_input])\n",
        "layer = keras.layers.Activation(\"relu\")(layer)\n",
        "layer = keras.layers.MaxPooling1D(pool_size=5, strides=2)(layer)\n",
        "layer = keras.layers.Flatten()(layer)\n",
        "layer = keras.layers.Dense(32, activation='relu')(layer)\n",
        "output = keras.layers.Dense(5, activation='softmax')(layer)\n",
        "model = keras.models.Model(inputs = [input], outputs = [output])"
      ],
      "execution_count": null,
      "outputs": []
    },
    {
      "cell_type": "code",
      "metadata": {
        "id": "nwZfly6RaDSJ",
        "colab_type": "code",
        "colab": {
          "base_uri": "https://localhost:8080/",
          "height": 816
        },
        "outputId": "13679604-4015-4951-e378-3ded047f3b01"
      },
      "source": [
        "early_stopping_cb = keras.callbacks.EarlyStopping(patience=10, restore_best_weights=True)\n",
        "\n",
        "model.compile(loss = 'sparse_categorical_crossentropy', optimizer='nadam', metrics=['accuracy'])\n",
        "history = model.fit(X, Y, epochs = 60, callbacks=[early_stopping_cb], validation_split = 0.1)\n",
        "#model.save(\"cnn1D.h5\")"
      ],
      "execution_count": null,
      "outputs": [
        {
          "output_type": "stream",
          "text": [
            "Train on 78797 samples, validate on 8756 samples\n",
            "Epoch 1/60\n",
            "78797/78797 [==============================] - 124s 2ms/sample - loss: 0.1606 - accuracy: 0.9549 - val_loss: 0.1074 - val_accuracy: 0.9690\n",
            "Epoch 2/60\n",
            "78797/78797 [==============================] - 121s 2ms/sample - loss: 0.0833 - accuracy: 0.9766 - val_loss: 0.0767 - val_accuracy: 0.9777\n",
            "Epoch 3/60\n",
            "78797/78797 [==============================] - 119s 2ms/sample - loss: 0.0697 - accuracy: 0.9797 - val_loss: 0.0765 - val_accuracy: 0.9790\n",
            "Epoch 4/60\n",
            "78797/78797 [==============================] - 119s 2ms/sample - loss: 0.0605 - accuracy: 0.9815 - val_loss: 0.0482 - val_accuracy: 0.9862\n",
            "Epoch 5/60\n",
            "78797/78797 [==============================] - 118s 2ms/sample - loss: 0.0553 - accuracy: 0.9836 - val_loss: 0.0558 - val_accuracy: 0.9841\n",
            "Epoch 6/60\n",
            "78797/78797 [==============================] - 118s 1ms/sample - loss: 0.0515 - accuracy: 0.9843 - val_loss: 0.0443 - val_accuracy: 0.9864\n",
            "Epoch 7/60\n",
            "78797/78797 [==============================] - 118s 1ms/sample - loss: 0.0477 - accuracy: 0.9857 - val_loss: 0.0546 - val_accuracy: 0.9840\n",
            "Epoch 8/60\n",
            "78797/78797 [==============================] - 118s 2ms/sample - loss: 0.0456 - accuracy: 0.9864 - val_loss: 0.0481 - val_accuracy: 0.9855\n",
            "Epoch 9/60\n",
            "78797/78797 [==============================] - 118s 2ms/sample - loss: 0.0431 - accuracy: 0.9866 - val_loss: 0.0506 - val_accuracy: 0.9854\n",
            "Epoch 10/60\n",
            "78797/78797 [==============================] - 119s 2ms/sample - loss: 0.0416 - accuracy: 0.9873 - val_loss: 0.0645 - val_accuracy: 0.9812\n",
            "Epoch 11/60\n",
            "78797/78797 [==============================] - 119s 2ms/sample - loss: 0.0408 - accuracy: 0.9873 - val_loss: 0.0452 - val_accuracy: 0.9865\n",
            "Epoch 12/60\n",
            "78797/78797 [==============================] - 119s 2ms/sample - loss: 0.0393 - accuracy: 0.9882 - val_loss: 0.0493 - val_accuracy: 0.9857\n",
            "Epoch 13/60\n",
            "78797/78797 [==============================] - 119s 2ms/sample - loss: 0.0371 - accuracy: 0.9885 - val_loss: 0.0390 - val_accuracy: 0.9882\n",
            "Epoch 14/60\n",
            "78797/78797 [==============================] - 120s 2ms/sample - loss: 0.0377 - accuracy: 0.9883 - val_loss: 0.0432 - val_accuracy: 0.9871\n",
            "Epoch 15/60\n",
            "78797/78797 [==============================] - 119s 2ms/sample - loss: 0.0360 - accuracy: 0.9887 - val_loss: 0.0504 - val_accuracy: 0.9845\n",
            "Epoch 16/60\n",
            "78797/78797 [==============================] - 118s 2ms/sample - loss: 0.0337 - accuracy: 0.9891 - val_loss: 0.0493 - val_accuracy: 0.9865\n",
            "Epoch 17/60\n",
            "78797/78797 [==============================] - 119s 2ms/sample - loss: 0.0342 - accuracy: 0.9897 - val_loss: 0.0472 - val_accuracy: 0.9864\n",
            "Epoch 18/60\n",
            "78797/78797 [==============================] - 118s 1ms/sample - loss: 0.0328 - accuracy: 0.9898 - val_loss: 0.0472 - val_accuracy: 0.9873\n",
            "Epoch 19/60\n",
            "78797/78797 [==============================] - 118s 2ms/sample - loss: 0.0333 - accuracy: 0.9897 - val_loss: 0.0497 - val_accuracy: 0.9877\n",
            "Epoch 20/60\n",
            "78797/78797 [==============================] - 119s 2ms/sample - loss: 0.0333 - accuracy: 0.9897 - val_loss: 0.0487 - val_accuracy: 0.9846\n",
            "Epoch 21/60\n",
            "78797/78797 [==============================] - 119s 2ms/sample - loss: 0.0317 - accuracy: 0.9900 - val_loss: 0.0456 - val_accuracy: 0.9879\n",
            "Epoch 22/60\n",
            "78797/78797 [==============================] - 118s 2ms/sample - loss: 0.0328 - accuracy: 0.9894 - val_loss: 0.0468 - val_accuracy: 0.9866\n",
            "Epoch 23/60\n",
            "78797/78797 [==============================] - 119s 2ms/sample - loss: 0.0314 - accuracy: 0.9903 - val_loss: 0.0427 - val_accuracy: 0.9886\n"
          ],
          "name": "stdout"
        }
      ]
    },
    {
      "cell_type": "code",
      "metadata": {
        "id": "s96GL78GaDYk",
        "colab_type": "code",
        "colab": {}
      },
      "source": [
        "Y_test = np.array(test.iloc[:, 187].values).astype(np.int8)\n",
        "X_test = np.array(test.iloc[:, list(range(187))].values)[..., np.newaxis]"
      ],
      "execution_count": null,
      "outputs": []
    },
    {
      "cell_type": "code",
      "metadata": {
        "id": "zIsfyA0SaDWa",
        "colab_type": "code",
        "colab": {}
      },
      "source": [
        "pred_test = model.predict(X_test)"
      ],
      "execution_count": null,
      "outputs": []
    },
    {
      "cell_type": "code",
      "metadata": {
        "id": "mGAkxi_ZaDPO",
        "colab_type": "code",
        "colab": {}
      },
      "source": [
        "pred_test = np.argmax(pred_test, axis=-1)"
      ],
      "execution_count": null,
      "outputs": []
    },
    {
      "cell_type": "code",
      "metadata": {
        "id": "h_GWAwzKaDMw",
        "colab_type": "code",
        "colab": {
          "base_uri": "https://localhost:8080/",
          "height": 51
        },
        "outputId": "14675b8e-d660-4d1d-94d4-5620640006f5"
      },
      "source": [
        "f1 = f1_score(Y_test, pred_test, average=\"macro\")\n",
        "\n",
        "print(\"Test f1 score : %s \"% f1)\n",
        "\n",
        "acc = accuracy_score(Y_test, pred_test)\n",
        "\n",
        "print(\"Test accuracy score : %s \"% acc)"
      ],
      "execution_count": null,
      "outputs": [
        {
          "output_type": "stream",
          "text": [
            "Test f1 score : 0.9344534871152902 \n",
            "Test accuracy score : 0.9904286546434731 \n"
          ],
          "name": "stdout"
        }
      ]
    },
    {
      "cell_type": "code",
      "metadata": {
        "id": "8HOKkAHraC_R",
        "colab_type": "code",
        "colab": {
          "base_uri": "https://localhost:8080/",
          "height": 543
        },
        "outputId": "8ee5008c-9e9d-457f-a349-c547004abc07"
      },
      "source": [
        "cm = confusion_matrix(Y_test, pred_test)\n",
        "cm = cm.astype('float') / cm.sum(axis=1)[:, np.newaxis]\n",
        "plt.figure(figsize = (10,7))\n",
        "#sns.set(font_scale=1.4)\n",
        "sns.heatmap(cm, annot=True,annot_kws={\"size\": 10})\n",
        "#plt.show()\n",
        "plt.tight_layout()\n",
        "plt.title('Confusion matrix')\n",
        "plt.ylabel('True label')\n",
        "plt.xlabel('Predicted label')\n",
        "plt.show()\n",
        "\n",
        "\n",
        "#cm = confusion_matrix(Y_test, pred_test, normalize = 'pred')\n",
        "#print(cm)\n",
        "#plt.figure(figsize = (10,7))\n",
        "#sns.heatmap(cm, annot=True,annot_kws={\"size\": 10})\n",
        "#plt.tight_layout()\n",
        "#plt.show()"
      ],
      "execution_count": null,
      "outputs": [
        {
          "output_type": "display_data",
          "data": {
            "image/png": "[encoded data removed]",
            "text/plain": [
              "<Figure size 720x504 with 2 Axes>"
            ]
          },
          "metadata": {
            "tags": []
          }
        }
      ]
    },
    {
      "cell_type": "code",
      "metadata": {
        "id": "QreMDFtKZvLz",
        "colab_type": "code",
        "colab": {}
      },
      "source": [
        "model.save(\"/content/gdrive/My Drive/My_CNN1D_model.h5\")"
      ],
      "execution_count": null,
      "outputs": []
    },
    {
      "cell_type": "code",
      "metadata": {
        "id": "lZxszMuJa3qi",
        "colab_type": "code",
        "colab": {}
      },
      "source": [
        "model2 = keras.models.load_model(\"/content/gdrive/My Drive/My_CNN1D_model.h5\")"
      ],
      "execution_count": null,
      "outputs": []
    },
    {
      "cell_type": "code",
      "metadata": {
        "id": "1qlYnXmHNnzg",
        "colab_type": "code",
        "colab": {}
      },
      "source": [
        ""
      ],
      "execution_count": null,
      "outputs": []
    }
  ]
}
